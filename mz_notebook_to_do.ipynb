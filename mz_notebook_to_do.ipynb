{
 "cells": [
  {
   "cell_type": "markdown",
   "id": "9b170618-e50b-45ac-abfd-64257fea731e",
   "metadata": {
    "jp-MarkdownHeadingCollapsed": true
   },
   "source": [
    "<span style=\"background-color: yellow; color: black; font-size: 26px;\">**Before you start, make sure you ran the *setup* notebook and have your GEE account.**</span>\n",
    "\n",
    "You can find the *setup* notebook in the link: https://github.com/soilwater/precisionag-workshop-2024/blob/main/setup_python_geospatial_analysis.ipynb"
   ]
  },
  {
   "cell_type": "markdown",
   "id": "15072618-b85a-4511-9415-caa8871ec6b0",
   "metadata": {},
   "source": [
    "# Create Field Management Zones using NDVI images\n",
    "\n",
    "In this tutorial you will learn how to:\n",
    "\n",
    "- Find, access, and download products from Google Earth Engine\n",
    "- Compute NDVI from image bands \n",
    "- Load custom field boundaries in vector format\n",
    "- Plot raster files\n",
    "- Stack raster files to generate space-time arrays\n",
    "- Learn how to merge multiple NDVI images using the Mean Relative Difference concept\n",
    "- Cluster multiple images to generate field management zones\n",
    "- Export map of resulting field management zones as prescription maps in Shapefile format\n",
    "\n",
    "Notebook created by Andres Patrignani and Gabriel da Rocha Hintz - November 2024\n"
   ]
  },
  {
   "cell_type": "markdown",
   "id": "9132dd90-2d2c-4e84-9b94-2da164688a78",
   "metadata": {},
   "source": [
    "### Import necessary modules\n",
    "\n",
    "Go to Anaconda website to install some of these packages: "
   ]
  },
  {
   "cell_type": "code",
   "execution_count": 10,
   "id": "3204b742-660e-40f4-9f92-03fac7d4a759",
   "metadata": {
    "tags": []
   },
   "outputs": [],
   "source": [
    "# Import modules\n",
    "import ee\n",
    "import glob\n",
    "import json\n",
    "import requests\n",
    "import numpy as np\n",
    "import xarray as xr\n",
    "import pandas as pd\n",
    "import geopandas as gpd\n",
    "\n",
    "import matplotlib.pyplot as plt\n",
    "from matplotlib import colors\n",
    "\n",
    "from datetime import datetime, timedelta\n",
    "from scipy.ndimage import gaussian_filter\n",
    "\n",
    "from sklearn.cluster import BisectingKMeans\n",
    "from sklearn.impute import SimpleImputer\n",
    "\n",
    "import rasterio.features\n",
    "from shapely.geometry import shape # shape creates a Shapely geometry\n"
   ]
  },
  {
   "cell_type": "markdown",
   "id": "437bf9a0-082a-42a0-be90-84c4d34923d1",
   "metadata": {},
   "source": [
    "### Initialize Google Earth Engine"
   ]
  },
  {
   "cell_type": "code",
   "execution_count": 12,
   "id": "a619f8a1-1722-4885-9b49-84e9db979d7e",
   "metadata": {
    "tags": []
   },
   "outputs": [],
   "source": [
    "# Authenticate\n",
    "ee.Authenticate()\n",
    "\n",
    "# Initialize API\n",
    "ee.Initialize()"
   ]
  },
  {
   "cell_type": "markdown",
   "id": "8bdcb0e2-29f3-4601-932b-a84bc52511e6",
   "metadata": {},
   "source": [
    "### Create helper functions"
   ]
  },
  {
   "cell_type": "code",
   "execution_count": 16,
   "id": "6b5362dc-0141-4a67-96cf-850c91703b8b",
   "metadata": {
    "tags": []
   },
   "outputs": [],
   "source": [
    "def save_gee_to_geotiff(ee_image, filename, crs, scale, geom, bands=[]):\n",
    "    \"\"\"Function to save geotiff images from GEE into local hard drive.\"\"\"\n",
    "\n",
    "    image_url = ee_image.getDownloadUrl({'region': geom,'scale':scale, \n",
    "                                         'bands': bands,\n",
    "                                         'crs': f'EPSG:{crs}', \n",
    "                                         'format': 'GEO_TIFF'})\n",
    "    \n",
    "    # Request data using URL and save data as a new GeoTiff file\n",
    "    response = requests.get(image_url)\n",
    "    if response.status_code == 200:\n",
    "        with open(filename, 'wb') as f:\n",
    "            f.write(response.content)\n",
    "            print(f\"Saved image {filename}\")\n",
    "    else:\n",
    "        print(\"Failed to download image\")\n",
    "\n",
    "\n",
    "def array_to_df(arr):\n",
    "    \"\"\"Function to convert list into Pandas dataframe\"\"\"\n",
    "    \n",
    "    df = pd.DataFrame(arr[1:])\n",
    "    df.columns = arr[0]\n",
    "    df['time'] = pd.to_datetime(df['time'], unit='ms')\n",
    "    return df\n"
   ]
  },
  {
   "cell_type": "code",
   "execution_count": 18,
   "id": "a03a796f-4fa7-4dd3-ab73-2a0dfe7dd263",
   "metadata": {},
   "outputs": [],
   "source": [
    "# Set format of axes without offset in the form of scientific notation\n",
    "plt.rcParams['axes.formatter.useoffset'] = False\n"
   ]
  },
  {
   "cell_type": "code",
   "execution_count": 20,
   "id": "6f251c81-da26-4a47-910f-63b2ec94cfca",
   "metadata": {
    "tags": []
   },
   "outputs": [
    {
     "data": {
      "image/png": "[encoded data removed]",
      "text/html": [
       "<div style=\"vertical-align: middle;\"><strong>from_list</strong> </div><div class=\"cmap\"><img alt=\"from_list colormap\" title=\"from_list\" style=\"border: 1px solid #555;\" src=\"data:image/png;base64,iVBORw0KGgoAAAANSUhEUgAAAgAAAABACAYAAABsv8+/AAAAGHRFWHRUaXRsZQBmcm9tX2xpc3QgY29sb3JtYXBDL89FAAAAHnRFWHREZXNjcmlwdGlvbgBmcm9tX2xpc3QgY29sb3JtYXABtCnOAAAAMHRFWHRBdXRob3IATWF0cGxvdGxpYiB2My45LjIsIGh0dHBzOi8vbWF0cGxvdGxpYi5vcmdhmcVTAAAAMnRFWHRTb2Z0d2FyZQBNYXRwbG90bGliIHYzLjkuMiwgaHR0cHM6Ly9tYXRwbG90bGliLm9yZ08/WnQAAAGJSURBVHic7daxSQRAFEXRWVNBUAwMzCzGtmzEMuzD3ExQUBYXVlFB2LWMH9xzGnjB/IG7ORwOxzXk8e52ZPf88ndk9+LmamT39PpsZPf+9WFk92n/NrK7/5n5Stuvkdm13W9Gdp8/RmbXy9Du3/vMXZ3sZt73+Dkyu9ZuaPd7aHetdTI3DQBMEQAAECQAACBIAABAkAAAgCABAABBAgAAggQAAAQJAAAIEgAAECQAACBIAABAkAAAgCABAABBAgAAggQAAAQJAAAIEgAAECQAACBIAABAkAAAgCABAABBAgAAggQAAAQJAAAIEgAAECQAACBIAABAkAAAgCABAABBAgAAggQAAAQJAAAIEgAAECQAACBIAABAkAAAgCABAABBAgAAggQAAAQJAAAIEgAAECQAACBIAABAkAAAgCABAABBAgAAggQAAAQJAAAIEgAAECQAACBIAABAkAAAgCABAABBAgAAggQAAAQJAAAIEgAAECQAACBIAABAkAAAgCABAABBAgAAgv4BInwelACOPFQAAAAASUVORK5CYII=\"></div><div style=\"vertical-align: middle; max-width: 514px; display: flex; justify-content: space-between;\"><div style=\"float: left;\"><div title=\"#fefefeff\" style=\"display: inline-block; width: 1em; height: 1em; margin: 0; vertical-align: middle; border: 1px solid #555; background-color: #fefefeff;\"></div> under</div><div style=\"margin: 0 auto; display: inline-block;\">bad <div title=\"#00000000\" style=\"display: inline-block; width: 1em; height: 1em; margin: 0; vertical-align: middle; border: 1px solid #555; background-color: #00000000;\"></div></div><div style=\"float: right;\">over <div title=\"#011301ff\" style=\"display: inline-block; width: 1em; height: 1em; margin: 0; vertical-align: middle; border: 1px solid #555; background-color: #011301ff;\"></div></div></div>"
      ],
      "text/plain": [
       "<matplotlib.colors.ListedColormap at 0x137b0dd00>"
      ]
     },
     "execution_count": 20,
     "metadata": {},
     "output_type": "execute_result"
    }
   ],
   "source": [
    "# Create our own colormap\n",
    "hex_palette = ['#FEFEFE','#CE7E45', '#DF923D', '#F1B555', '#FCD163', '#99B718', '#74A901',\n",
    "             '#66A000', '#529400', '#3E8601', '#207401', '#056201', '#004C00', '#023B01',\n",
    "             '#012E01', '#011D01', '#011301']\n",
    "\n",
    "\n",
    "# Use the built-in ListedColormap function to do the conversion\n",
    "ndvi_cmap = colors.ListedColormap(hex_palette)\n",
    "# ndvi_cmap.set_bad"
   ]
  },
  {
   "cell_type": "markdown",
   "id": "5865c99f-4001-4b30-8bbd-b18563211586",
   "metadata": {},
   "source": [
    "### Define area of interest\n",
    "\n",
    "We will use the boundaries of an actual farmer production field near Gypsum, KS."
   ]
  },
  {
   "cell_type": "code",
   "execution_count": 22,
   "id": "af2982d9-df3f-49dd-bba5-33cffe54a210",
   "metadata": {
    "tags": []
   },
   "outputs": [
    {
     "data": {
      "text/html": [
       "<div>\n",
       "<style scoped>\n",
       "    .dataframe tbody tr th:only-of-type {\n",
       "        vertical-align: middle;\n",
       "    }\n",
       "\n",
       "    .dataframe tbody tr th {\n",
       "        vertical-align: top;\n",
       "    }\n",
       "\n",
       "    .dataframe thead th {\n",
       "        text-align: right;\n",
       "    }\n",
       "</style>\n",
       "<table border=\"1\" class=\"dataframe\">\n",
       "  <thead>\n",
       "    <tr style=\"text-align: right;\">\n",
       "      <th></th>\n",
       "      <th>geometry</th>\n",
       "    </tr>\n",
       "  </thead>\n",
       "  <tbody>\n",
       "    <tr>\n",
       "      <th>0</th>\n",
       "      <td>POLYGON ((-97.43239 38.71092, -97.43281 38.712...</td>\n",
       "    </tr>\n",
       "  </tbody>\n",
       "</table>\n",
       "</div>"
      ],
      "text/plain": [
       "                                            geometry\n",
       "0  POLYGON ((-97.43239 38.71092, -97.43281 38.712..."
      ]
     },
     "execution_count": 22,
     "metadata": {},
     "output_type": "execute_result"
    }
   ],
   "source": [
    "# Read field boundary with Geopandas\n",
    "field_bnd = gpd.read_file('mortimers_bnd.geojson')\n",
    "field_bnd"
   ]
  },
  {
   "cell_type": "code",
   "execution_count": 34,
   "id": "7253ee97-a99a-46b3-9d85-6104ee42cf95",
   "metadata": {},
   "outputs": [],
   "source": [
    "# How to access documentation/help\n",
    "#field_bnd.plot?"
   ]
  },
  {
   "cell_type": "code",
   "execution_count": 30,
   "id": "1251960d-ef55-4d34-9c54-5c6d416f7fc7",
   "metadata": {},
   "outputs": [
    {
     "data": {
      "image/png": "[encoded data removed]",
      "text/plain": [
       "<Figure size 640x480 with 1 Axes>"
      ]
     },
     "metadata": {},
     "output_type": "display_data"
    }
   ],
   "source": [
    "# Visualize field boundaries\n",
    "fig, ax = plt.subplots()\n",
    "field_bnd.plot(ax=ax, facecolor='None', edgecolor='k')\n",
    "ax.set_title('Mortimers')\n",
    "ax.set_xlabel('Longitude')\n",
    "ax.set_ylabel('Latitude')\n",
    "plt.show()\n"
   ]
  },
  {
   "cell_type": "code",
   "execution_count": 44,
   "id": "5cc87060-ba88-4644-ab50-19293d729cf6",
   "metadata": {},
   "outputs": [],
   "source": [
    "# Get JSON format of GeoDataframe\n",
    "# Note that .to_json() gives us a string, so we use the json module to create a proper json object\n",
    "field_bnd_json = json.loads( field_bnd.to_json() )\n",
    "field_bnd_json\n",
    "\n",
    "# Define the region of interest (roi) in GEE as a ee.Geometry\n",
    "roi = ee.Geometry( field_bnd_json['features'][0]['geometry'] )\n",
    "\n",
    "# Create mask in GEE for field\n",
    "mask = ee.Image.constant(1).clip(roi).mask()\n"
   ]
  },
  {
   "cell_type": "code",
   "execution_count": 46,
   "id": "a2ecfb8d-d707-4722-a9a2-06379f1af51d",
   "metadata": {
    "tags": []
   },
   "outputs": [
    {
     "name": "stdout",
     "output_type": "stream",
     "text": [
      "{'type': 'Point', 'coordinates': [-97.43482229076969, 38.71414271696167]}\n"
     ]
    }
   ],
   "source": [
    "# Get centroid of GEE geometry (note that this is of type: Point\n",
    "field_centroid = roi.centroid().getInfo()\n",
    "print(field_centroid)"
   ]
  },
  {
   "cell_type": "markdown",
   "id": "96e0f6d9-fe4a-4b57-878c-942fa98d4a9d",
   "metadata": {},
   "source": [
    "### Get NDVI timeseries to inspect growing season trend\n",
    "\n",
    "To inspect some of the temporal variability and help us identify the period to download some data for our project, let's plot some NDVI time series for the centroid (you can do this foy any point within the field).\n",
    "\n",
    "We will use the following GEE product: https://developers.google.com/earth-engine/datasets/catalog/MODIS_061_MOD13Q1"
   ]
  },
  {
   "cell_type": "code",
   "execution_count": 50,
   "id": "0097a927-bf1b-45a2-baaa-8f3e96308562",
   "metadata": {
    "tags": []
   },
   "outputs": [
    {
     "data": {
      "text/plain": [
       "str"
      ]
     },
     "execution_count": 50,
     "metadata": {},
     "output_type": "execute_result"
    }
   ],
   "source": [
    "# Define start and end dates\n",
    "start_date = '2020-01-01'\n",
    "end_date = '2023-12-31'\n",
    "\n",
    "#type(start_date)"
   ]
  },
  {
   "cell_type": "code",
   "execution_count": 56,
   "id": "55babfb4-ad88-47d6-831a-70691757e0d4",
   "metadata": {
    "tags": []
   },
   "outputs": [
    {
     "data": {
      "text/html": [
       "<div>\n",
       "<style scoped>\n",
       "    .dataframe tbody tr th:only-of-type {\n",
       "        vertical-align: middle;\n",
       "    }\n",
       "\n",
       "    .dataframe tbody tr th {\n",
       "        vertical-align: top;\n",
       "    }\n",
       "\n",
       "    .dataframe thead th {\n",
       "        text-align: right;\n",
       "    }\n",
       "</style>\n",
       "<table border=\"1\" class=\"dataframe\">\n",
       "  <thead>\n",
       "    <tr style=\"text-align: right;\">\n",
       "      <th></th>\n",
       "      <th>id</th>\n",
       "      <th>longitude</th>\n",
       "      <th>latitude</th>\n",
       "      <th>time</th>\n",
       "      <th>NDVI</th>\n",
       "    </tr>\n",
       "  </thead>\n",
       "  <tbody>\n",
       "    <tr>\n",
       "      <th>0</th>\n",
       "      <td>2020_01_01</td>\n",
       "      <td>-97.434644</td>\n",
       "      <td>38.71402</td>\n",
       "      <td>2020-01-01</td>\n",
       "      <td>4582</td>\n",
       "    </tr>\n",
       "    <tr>\n",
       "      <th>1</th>\n",
       "      <td>2020_01_17</td>\n",
       "      <td>-97.434644</td>\n",
       "      <td>38.71402</td>\n",
       "      <td>2020-01-17</td>\n",
       "      <td>4417</td>\n",
       "    </tr>\n",
       "    <tr>\n",
       "      <th>2</th>\n",
       "      <td>2020_02_02</td>\n",
       "      <td>-97.434644</td>\n",
       "      <td>38.71402</td>\n",
       "      <td>2020-02-02</td>\n",
       "      <td>4105</td>\n",
       "    </tr>\n",
       "    <tr>\n",
       "      <th>3</th>\n",
       "      <td>2020_02_18</td>\n",
       "      <td>-97.434644</td>\n",
       "      <td>38.71402</td>\n",
       "      <td>2020-02-18</td>\n",
       "      <td>4364</td>\n",
       "    </tr>\n",
       "    <tr>\n",
       "      <th>4</th>\n",
       "      <td>2020_03_05</td>\n",
       "      <td>-97.434644</td>\n",
       "      <td>38.71402</td>\n",
       "      <td>2020-03-05</td>\n",
       "      <td>7065</td>\n",
       "    </tr>\n",
       "  </tbody>\n",
       "</table>\n",
       "</div>"
      ],
      "text/plain": [
       "           id  longitude  latitude       time  NDVI\n",
       "0  2020_01_01 -97.434644  38.71402 2020-01-01  4582\n",
       "1  2020_01_17 -97.434644  38.71402 2020-01-17  4417\n",
       "2  2020_02_02 -97.434644  38.71402 2020-02-02  4105\n",
       "3  2020_02_18 -97.434644  38.71402 2020-02-18  4364\n",
       "4  2020_03_05 -97.434644  38.71402 2020-03-05  7065"
      ]
     },
     "execution_count": 56,
     "metadata": {},
     "output_type": "execute_result"
    }
   ],
   "source": [
    "# Get collection for Modis-Terra 16-day composite at 250-meter resolution\n",
    "terra = ee.ImageCollection('MODIS/061/MOD13Q1').filterDate(start_date, end_date)\n",
    "ndvi = terra.select('NDVI')\n",
    "poi_ndvi = ndvi.getRegion(roi.centroid(), scale=250).getInfo()\n",
    "df_poi_ndvi = array_to_df(poi_ndvi)\n",
    "\n",
    "df_poi_ndvi.head(5)\n"
   ]
  },
  {
   "cell_type": "code",
   "execution_count": 60,
   "id": "aacc2181-6493-4cd9-b429-01561232e218",
   "metadata": {
    "tags": []
   },
   "outputs": [
    {
     "data": {
      "image/png": "[encoded data removed]",
      "text/plain": [
       "<Figure size 1000x400 with 1 Axes>"
      ]
     },
     "metadata": {},
     "output_type": "display_data"
    }
   ],
   "source": [
    "# Convert array into dataframe\n",
    "plt.figure(figsize=(10,4))\n",
    "plt.plot(df_poi_ndvi['time'], \n",
    "         df_poi_ndvi['NDVI']*0.0001, \n",
    "         linestyle='-', \n",
    "         marker='o', # circular marker\n",
    "         color='green')\n",
    "plt.xlabel('Time')\n",
    "plt.ylabel('NDVI')\n",
    "plt.show()\n"
   ]
  },
  {
   "cell_type": "code",
   "execution_count": null,
   "id": "8ce2623e-f86d-4f4b-b036-fd8ff264faaf",
   "metadata": {
    "tags": []
   },
   "outputs": [],
   "source": [
    "# Create figure to visualize time series\n"
   ]
  },
  {
   "cell_type": "markdown",
   "id": "45d036be-1b73-4b84-8598-ad11a90659d5",
   "metadata": {},
   "source": [
    "### Download Sentinel data\n",
    "\n",
    "First we are going to request the available image dates within a user-define period of time. Then we will download a few of the images in the list so that the code runs within a short period of time.\n",
    "\n",
    "For this part we will use a product from Sentinel that has some cloud information associated with it that will allow us to filter out images during clouy days. The product link is: https://developers.google.com/earth-engine/datasets/catalog/COPERNICUS_S2_HARMONIZED"
   ]
  },
  {
   "cell_type": "code",
   "execution_count": 62,
   "id": "a42a4ab1-ddd4-4c08-a44c-3471607cdf84",
   "metadata": {
    "tags": []
   },
   "outputs": [],
   "source": [
    "# Re-define start and end dates based on time series\n",
    "start_date = '2023-01-01'\n",
    "end_date = '2023-12-01'\n"
   ]
  },
  {
   "cell_type": "code",
   "execution_count": 72,
   "id": "87b8c0e7-3aba-482e-8efd-f5a26ffd1956",
   "metadata": {
    "tags": []
   },
   "outputs": [
    {
     "data": {
      "text/plain": [
       "['2023-01-09',\n",
       " '2023-01-19',\n",
       " '2023-01-27',\n",
       " '2023-02-03',\n",
       " '2023-02-11',\n",
       " '2023-02-13',\n",
       " '2023-02-28',\n",
       " '2023-03-03',\n",
       " '2023-04-02',\n",
       " '2023-04-12',\n",
       " '2023-04-17',\n",
       " '2023-04-29',\n",
       " '2023-05-07',\n",
       " '2023-05-12',\n",
       " '2023-05-17',\n",
       " '2023-06-06',\n",
       " '2023-06-13',\n",
       " '2023-06-18',\n",
       " '2023-06-26',\n",
       " '2023-07-11',\n",
       " '2023-07-23',\n",
       " '2023-07-26',\n",
       " '2023-08-07',\n",
       " '2023-08-15',\n",
       " '2023-08-20',\n",
       " '2023-08-25',\n",
       " '2023-08-27',\n",
       " '2023-08-30',\n",
       " '2023-08-30',\n",
       " '2023-09-01',\n",
       " '2023-09-04',\n",
       " '2023-09-06',\n",
       " '2023-09-26',\n",
       " '2023-09-29',\n",
       " '2023-10-01',\n",
       " '2023-10-04',\n",
       " '2023-10-09',\n",
       " '2023-10-11',\n",
       " '2023-10-16',\n",
       " '2023-10-19',\n",
       " '2023-10-21',\n",
       " '2023-11-10',\n",
       " '2023-11-13',\n",
       " '2023-11-18',\n",
       " '2023-11-28']"
      ]
     },
     "execution_count": 72,
     "metadata": {},
     "output_type": "execute_result"
    }
   ],
   "source": [
    "# Select Sentinel 2 image collection\n",
    "collection = ee.ImageCollection('COPERNICUS/S2_HARMONIZED').filterDate(start_date, end_date).filterBounds(roi).filter(ee.Filter.lt('CLOUDY_PIXEL_PERCENTAGE', 10))\n",
    "\n",
    "# Get the list of available image dates\n",
    "get_date = lambda image: ee.Image(image).date().format('YYYY-MM-dd')\n",
    "\n",
    "collection_dates = collection.toList( collection.size() ).map(get_date).getInfo()\n",
    "collection_dates\n"
   ]
  },
  {
   "cell_type": "code",
   "execution_count": 80,
   "id": "6b6a2856-fc78-4e8a-894c-29713bc83295",
   "metadata": {
    "tags": []
   },
   "outputs": [
    {
     "name": "stdout",
     "output_type": "stream",
     "text": [
      "Saved image ndvi_data_live/ndvi_2023-01-09.tif\n",
      "Saved image ndvi_data_live/ndvi_2023-02-03.tif\n",
      "Saved image ndvi_data_live/ndvi_2023-02-28.tif\n",
      "Saved image ndvi_data_live/ndvi_2023-04-12.tif\n",
      "Saved image ndvi_data_live/ndvi_2023-05-07.tif\n",
      "Saved image ndvi_data_live/ndvi_2023-06-06.tif\n",
      "Saved image ndvi_data_live/ndvi_2023-06-26.tif\n",
      "Saved image ndvi_data_live/ndvi_2023-07-26.tif\n",
      "Saved image ndvi_data_live/ndvi_2023-08-20.tif\n",
      "Saved image ndvi_data_live/ndvi_2023-08-30.tif\n",
      "Saved image ndvi_data_live/ndvi_2023-09-04.tif\n",
      "Saved image ndvi_data_live/ndvi_2023-09-29.tif\n",
      "Saved image ndvi_data_live/ndvi_2023-10-09.tif\n",
      "Saved image ndvi_data_live/ndvi_2023-10-19.tif\n",
      "Saved image ndvi_data_live/ndvi_2023-11-13.tif\n"
     ]
    }
   ],
   "source": [
    "# Select a subset of the collection dates to download\n",
    "selected_dates = collection_dates[::3]\n",
    "\n",
    "# Download each image\n",
    "for date in selected_dates:\n",
    "\n",
    "    # Define dates\n",
    "    start_date = date\n",
    "    end_date = (datetime.strptime(start_date, '%Y-%m-%d') + timedelta(days=1)).strftime('%Y-%m-%d')\n",
    "    \n",
    "    # Request image\n",
    "    image = collection.filterDate(start_date, end_date).first().select(['B8', 'B4'])\n",
    "    ndvi = image.normalizedDifference(['B8', 'B4']).rename('NDVI').mask(mask)\n",
    "\n",
    "    save_gee_to_geotiff(ndvi, \n",
    "                        f'ndvi_data_live/ndvi_{start_date}.tif',\n",
    "                       crs=4326,\n",
    "                       scale=10,\n",
    "                       geom=roi)\n",
    "\n",
    "\n",
    "#print(start_date)\n",
    "#datetime.strptime(start_date, '%Y-%m-%d')"
   ]
  },
  {
   "cell_type": "code",
   "execution_count": 98,
   "id": "c5bff732-542f-4376-bcff-4f04ec5dc060",
   "metadata": {
    "tags": []
   },
   "outputs": [
    {
     "data": {
      "image/png": "[encoded data removed]",
      "text/plain": [
       "<Figure size 600x800 with 2 Axes>"
      ]
     },
     "metadata": {},
     "output_type": "display_data"
    }
   ],
   "source": [
    "# Read one image to inspect data\n",
    "plot_date = '2023-08-30'\n",
    "da = xr.load_dataarray(f'ndvi_data_live/ndvi_{plot_date}.tif')\n",
    "\n",
    "# Get number of rows and columns for later use\n",
    "\n",
    "# Visualize map for specific date\n",
    "fig, ax = plt.subplots(figsize=(6,8))\n",
    "da.plot(ax=ax, cmap=ndvi_cmap, vmin=0.0, vmax=0.9, \n",
    "        cbar_kwargs={'label':'NDVI',\n",
    "                     'shrink':0.5})\n",
    "field_bnd.plot(ax=ax, facecolor='None')\n",
    "ax.set_title(f'Mortimers Field NDVI {plot_date}')\n",
    "ax.set_xlabel('Longitude')\n",
    "ax.set_ylabel('Latitude')\n",
    "plt.savefig(f'figures/ndvi_{plot_date}.jpg', dpi=300)\n",
    "plt.show()\n"
   ]
  },
  {
   "cell_type": "markdown",
   "id": "ad0acbb7-0862-4e0d-a442-edee7eed8c8a",
   "metadata": {},
   "source": [
    "### Create space-time data array using all the images"
   ]
  },
  {
   "cell_type": "code",
   "execution_count": null,
   "id": "5056d7fb-76fc-4e27-bad7-edabb458eee8",
   "metadata": {
    "tags": []
   },
   "outputs": [],
   "source": [
    "# Read all image names\n"
   ]
  },
  {
   "cell_type": "code",
   "execution_count": null,
   "id": "29697ba7-7ee9-4925-9477-0acdc8029c7d",
   "metadata": {
    "tags": []
   },
   "outputs": [],
   "source": [
    "# Create DataArray\n"
   ]
  },
  {
   "cell_type": "code",
   "execution_count": null,
   "id": "5fcb5efd-25f4-4cdf-b283-ab3514725691",
   "metadata": {
    "tags": []
   },
   "outputs": [],
   "source": [
    "# Plot all of them\n"
   ]
  },
  {
   "cell_type": "markdown",
   "id": "71933f5f-d6cd-4fc8-8382-689a22aa2da5",
   "metadata": {},
   "source": [
    "### Access and select data within DataArray"
   ]
  },
  {
   "cell_type": "code",
   "execution_count": null,
   "id": "f9edbc41-0d79-4708-864d-541564980010",
   "metadata": {
    "tags": []
   },
   "outputs": [],
   "source": [
    "# Plot single image by date\n"
   ]
  },
  {
   "cell_type": "code",
   "execution_count": null,
   "id": "64adf066-c2f0-4dec-ab9c-85c23d97e095",
   "metadata": {
    "tags": []
   },
   "outputs": [],
   "source": [
    "# Only areas with specific NDVI\n"
   ]
  },
  {
   "cell_type": "code",
   "execution_count": null,
   "id": "e38231f7-504d-4286-a82a-cb1bb3cd1c22",
   "metadata": {
    "tags": []
   },
   "outputs": [],
   "source": [
    "# Plot time series\n"
   ]
  },
  {
   "cell_type": "markdown",
   "id": "27428d32-db58-463f-a84d-db202f3e977e",
   "metadata": {},
   "source": [
    "### Compute relative difference\n",
    "\n",
    "For each NDVI layer we will normalize the values by first subtracting the mean, and then dividing by the mean. This was we will obtain a new grid showing areas of the field that have more or less biomass than teh field average.\n",
    "\n",
    "$$ RD = \\frac{NDVI - \\overline{NDVI}}{\\overline{NDVI}}$$\n"
   ]
  },
  {
   "cell_type": "code",
   "execution_count": null,
   "id": "0d3331ac-1523-4789-a8c2-59e787bd4c86",
   "metadata": {
    "tags": []
   },
   "outputs": [],
   "source": [
    "# Create lambda function to compute RD\n"
   ]
  },
  {
   "cell_type": "code",
   "execution_count": null,
   "id": "8971508f-b8b1-4fe4-a538-fbbb3d3f1507",
   "metadata": {
    "tags": []
   },
   "outputs": [],
   "source": [
    "# Compute relative difference\n"
   ]
  },
  {
   "cell_type": "code",
   "execution_count": null,
   "id": "1dcb02fe-2cd6-4e61-8c76-763127d1ed95",
   "metadata": {
    "tags": []
   },
   "outputs": [],
   "source": [
    "# Create data array\n"
   ]
  },
  {
   "cell_type": "code",
   "execution_count": null,
   "id": "f722f8b7-e939-4158-a8c2-ca76759d8cfb",
   "metadata": {
    "tags": []
   },
   "outputs": [],
   "source": [
    "# Compute mean relative difference\n",
    "\n"
   ]
  },
  {
   "cell_type": "code",
   "execution_count": null,
   "id": "b513485c-5565-4aaa-a129-f04179256592",
   "metadata": {
    "tags": []
   },
   "outputs": [],
   "source": [
    "# Plot mean relative difference\n",
    "\n"
   ]
  },
  {
   "cell_type": "markdown",
   "id": "438655e0-4202-4784-ad87-8d57b553acf3",
   "metadata": {},
   "source": [
    "### Create management zones\n",
    "\n",
    "We will use clustering analysis to find homogeneous management zones. During clustering, each column represents a different feature (NDVI date, or any other variable) and rows represent reps or observations (in our case each pixel of the field)."
   ]
  },
  {
   "cell_type": "code",
   "execution_count": null,
   "id": "54d11a0a-1edf-42cf-bb18-72f240958680",
   "metadata": {
    "tags": []
   },
   "outputs": [],
   "source": [
    "# Input data using MRD\n",
    "\n",
    "# Imputing missing data\n"
   ]
  },
  {
   "cell_type": "code",
   "execution_count": null,
   "id": "7b1e9f85-3abd-4187-bd3a-5bc120919837",
   "metadata": {
    "tags": []
   },
   "outputs": [],
   "source": [
    "# Clustering (this will result in integer labels)\n",
    "\n",
    "# Smooth clusters using Gaussian filter\n"
   ]
  },
  {
   "cell_type": "code",
   "execution_count": null,
   "id": "6fedaa8a-463b-428e-88f4-38fe29b4b327",
   "metadata": {
    "tags": []
   },
   "outputs": [],
   "source": [
    "# Create DataArray with resulting clusters, which the new management zones\n",
    "\n",
    "\n",
    "# Restore NaN cells\n",
    "\n",
    "\n",
    "# Plot management zones\n"
   ]
  },
  {
   "cell_type": "code",
   "execution_count": null,
   "id": "85e26bcb-1ea8-482e-8fe8-10e9cdf39d62",
   "metadata": {},
   "outputs": [],
   "source": [
    "# Create a version where each cluster is represented by the median MRD\n"
   ]
  },
  {
   "cell_type": "code",
   "execution_count": null,
   "id": "bd3fdef1-bbe8-4c7a-a6a2-f03d9803a241",
   "metadata": {},
   "outputs": [],
   "source": [
    "# Show mapped clusters using MRD values\n"
   ]
  },
  {
   "cell_type": "markdown",
   "id": "a9ae8705-724c-41ef-ab55-a6f628f92072",
   "metadata": {},
   "source": [
    "### Vectorize resulting raster management zones"
   ]
  },
  {
   "cell_type": "code",
   "execution_count": null,
   "id": "b4da5491-566d-4104-93e9-dd325511fb05",
   "metadata": {
    "tags": []
   },
   "outputs": [],
   "source": [
    "# Create empty arrays to save polygons for each cluster and their MRD value\n",
    "\n",
    "# Create a GeoDataFrame with the polygons and their cluster labels\n"
   ]
  },
  {
   "cell_type": "code",
   "execution_count": null,
   "id": "1b82eead-da48-4a9e-8d8c-02fd6ec99f23",
   "metadata": {
    "tags": []
   },
   "outputs": [],
   "source": [
    "# Plot mapped clusters\n"
   ]
  },
  {
   "cell_type": "code",
   "execution_count": null,
   "id": "edc336ca-93f5-4b68-b89f-b049ede2ef17",
   "metadata": {},
   "outputs": [],
   "source": [
    "# Visualize interactive map\n"
   ]
  },
  {
   "cell_type": "code",
   "execution_count": null,
   "id": "b3e9f09a-97d3-4b71-85be-837c4208bac4",
   "metadata": {
    "tags": []
   },
   "outputs": [],
   "source": [
    "# Export shapefile to use as a prescription map\n"
   ]
  }
 ],
 "metadata": {
  "kernelspec": {
   "display_name": "Python 3 (ipykernel)",
   "language": "python",
   "name": "python3"
  },
  "language_info": {
   "codemirror_mode": {
    "name": "ipython",
    "version": 3
   },
   "file_extension": ".py",
   "mimetype": "text/x-python",
   "name": "python",
   "nbconvert_exporter": "python",
   "pygments_lexer": "ipython3",
   "version": "3.12.7"
  }
 },
 "nbformat": 4,
 "nbformat_minor": 5
}
