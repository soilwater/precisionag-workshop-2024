{
 "cells": [
  {
   "cell_type": "markdown",
   "id": "9b170618-e50b-45ac-abfd-64257fea731e",
   "metadata": {
    "jp-MarkdownHeadingCollapsed": true
   },
   "source": [
    "<span style=\"background-color: yellow; color: black; font-size: 26px;\">**Before you start, make sure you ran the *setup* notebook and have your GEE account.**</span>\n",
    "\n",
    "You can find the *setup* notebook in the link: https://github.com/soilwater/precisionag-workshop-2024/blob/main/setup_python_geospatial_analysis.ipynb"
   ]
  },
  {
   "cell_type": "markdown",
   "id": "15072618-b85a-4511-9415-caa8871ec6b0",
   "metadata": {},
   "source": [
    "# Create Field Management Zones\n",
    "\n",
    "In this tutorial you will learn how to:\n",
    "\n",
    "- Find, access, and download products from Google Earth Engine\n",
    "- Compute NDVI from image bands \n",
    "- Load custom field boundaries in vector format\n",
    "- Plot raster files\n",
    "- Stack raster files to generate space-time arrays\n",
    "- Learn how to merge multiple NDVI images using the Mean Relative Difference concept\n",
    "- Cluster multiple images to generate field management zones\n",
    "- Export map of resulting field management zones as prescription maps in Shapefile format\n",
    "\n",
    "Notebook created by Andres Patrignani and Gabriel da Rocha Hintz - November 2024\n"
   ]
  },
  {
   "cell_type": "markdown",
   "id": "9132dd90-2d2c-4e84-9b94-2da164688a78",
   "metadata": {},
   "source": [
    "### Import necessary modules"
   ]
  },
  {
   "cell_type": "code",
   "execution_count": null,
   "id": "3204b742-660e-40f4-9f92-03fac7d4a759",
   "metadata": {
    "tags": []
   },
   "outputs": [],
   "source": [
    "# Import modules\n",
    "import ee\n",
    "import glob\n",
    "import json\n",
    "import requests\n",
    "import numpy as np\n",
    "import xarray as xr\n",
    "import pandas as pd\n",
    "import geopandas as gpd\n",
    "\n",
    "import matplotlib.pyplot as plt\n",
    "from matplotlib import colors\n",
    "\n",
    "from datetime import datetime, timedelta\n",
    "from scipy.ndimage import gaussian_filter\n",
    "\n",
    "from sklearn.cluster import BisectingKMeans\n",
    "from sklearn.impute import SimpleImputer\n",
    "\n",
    "import rasterio.features\n",
    "from shapely.geometry import shape # shape creates a Shapely geometry\n"
   ]
  },
  {
   "cell_type": "markdown",
   "id": "437bf9a0-082a-42a0-be90-84c4d34923d1",
   "metadata": {},
   "source": [
    "### Initialize Google Earth Engine"
   ]
  },
  {
   "cell_type": "code",
   "execution_count": null,
   "id": "a619f8a1-1722-4885-9b49-84e9db979d7e",
   "metadata": {
    "tags": []
   },
   "outputs": [],
   "source": [
    "# Authenticate\n",
    "ee.Authenticate()\n",
    "\n",
    "# Initialize API\n",
    "ee.Initialize()"
   ]
  },
  {
   "cell_type": "markdown",
   "id": "8bdcb0e2-29f3-4601-932b-a84bc52511e6",
   "metadata": {},
   "source": [
    "### Create helper functions"
   ]
  },
  {
   "cell_type": "code",
   "execution_count": null,
   "id": "6b5362dc-0141-4a67-96cf-850c91703b8b",
   "metadata": {
    "tags": []
   },
   "outputs": [],
   "source": [
    "def save_gee_to_geotiff(ee_image, filename, crs, scale, geom, bands=[]):\n",
    "    \"\"\"\n",
    "    Function to save images from Google Earth Engine into local hard drive.\n",
    "    \"\"\"\n",
    "    image_url = ee_image.getDownloadUrl({'region': geom,'scale':scale, \n",
    "                                         'bands': bands,\n",
    "                                         'crs': f'EPSG:{crs}', \n",
    "                                         'format': 'GEO_TIFF'})\n",
    "    \n",
    "    # Request data using URL and save data as a new GeoTiff file\n",
    "    response = requests.get(image_url)\n",
    "    if response.status_code == 200:\n",
    "        with open(filename, 'wb') as f:\n",
    "            f.write(response.content)\n",
    "            print(f\"Saved image {filename}\")\n",
    "    else:\n",
    "        print(\"Failed to download image\")\n",
    "\n",
    "\n",
    "def array_to_df(arr):\n",
    "    \"\"\"Function to convert list into dataframe\"\"\"\n",
    "    df = pd.DataFrame(arr[1:])\n",
    "    df.columns = arr[0]\n",
    "    df['time'] = pd.to_datetime(df['time'], unit='ms')\n",
    "    return df\n"
   ]
  },
  {
   "cell_type": "code",
   "execution_count": null,
   "id": "a03a796f-4fa7-4dd3-ab73-2a0dfe7dd263",
   "metadata": {},
   "outputs": [],
   "source": [
    "# Set format of axes without offset in the form of scientific notation\n",
    "plt.rcParams['axes.formatter.useoffset'] = False\n"
   ]
  },
  {
   "cell_type": "code",
   "execution_count": null,
   "id": "6f251c81-da26-4a47-910f-63b2ec94cfca",
   "metadata": {
    "tags": []
   },
   "outputs": [],
   "source": [
    "# Create our own colormap\n",
    "hex_palette = ['#FEFEFE','#CE7E45', '#DF923D', '#F1B555', '#FCD163', '#99B718', '#74A901',\n",
    "             '#66A000', '#529400', '#3E8601', '#207401', '#056201', '#004C00', '#023B01',\n",
    "             '#012E01', '#011D01', '#011301']\n",
    "\n",
    "\n",
    "# Use the built-in ListedColormap function to do the conversion\n"
   ]
  },
  {
   "cell_type": "markdown",
   "id": "5865c99f-4001-4b30-8bbd-b18563211586",
   "metadata": {},
   "source": [
    "### Define area of interest\n",
    "\n",
    "We will use the boundaries of an actual farmer production field near Gypsum, KS."
   ]
  },
  {
   "cell_type": "code",
   "execution_count": null,
   "id": "af2982d9-df3f-49dd-bba5-33cffe54a210",
   "metadata": {
    "tags": []
   },
   "outputs": [],
   "source": [
    "# Read field boundary with Geopandas\n"
   ]
  },
  {
   "cell_type": "code",
   "execution_count": null,
   "id": "1251960d-ef55-4d34-9c54-5c6d416f7fc7",
   "metadata": {},
   "outputs": [],
   "source": [
    "# Visualize field boundaries\n"
   ]
  },
  {
   "cell_type": "code",
   "execution_count": null,
   "id": "5cc87060-ba88-4644-ab50-19293d729cf6",
   "metadata": {},
   "outputs": [],
   "source": [
    "# Get JSON format of GeoDataframe\n",
    "# Note that .to_json() gives us a string, so we use the json module to create a proper json object\n",
    "\n",
    "# Define the region of interest (roi) in GEE as a ee.Geometry\n",
    "\n",
    "# Create mask in GEE for field\n"
   ]
  },
  {
   "cell_type": "code",
   "execution_count": null,
   "id": "a2ecfb8d-d707-4722-a9a2-06379f1af51d",
   "metadata": {
    "tags": []
   },
   "outputs": [],
   "source": [
    "# Get centroid of GEE geometry (note that this is of type: Point\n"
   ]
  },
  {
   "cell_type": "markdown",
   "id": "96e0f6d9-fe4a-4b57-878c-942fa98d4a9d",
   "metadata": {},
   "source": [
    "### Get NDVI timeseries to inspect growing season trend\n",
    "\n",
    "To inspect some of the temporal variability and help us identify the period to download some data for our project, let's plot some NDVI time series for the centroid (you can do this foy any point within the field).\n",
    "\n",
    "We will use the following GEE product: https://developers.google.com/earth-engine/datasets/catalog/MODIS_061_MOD13Q1"
   ]
  },
  {
   "cell_type": "code",
   "execution_count": null,
   "id": "0097a927-bf1b-45a2-baaa-8f3e96308562",
   "metadata": {
    "tags": []
   },
   "outputs": [],
   "source": [
    "# Define start and end dates\n",
    "start_date = \n",
    "end_date = \n"
   ]
  },
  {
   "cell_type": "code",
   "execution_count": null,
   "id": "55babfb4-ad88-47d6-831a-70691757e0d4",
   "metadata": {
    "tags": []
   },
   "outputs": [],
   "source": [
    "# Get collection for Modis-Terra 16-day composite at 250-meter resolution\n"
   ]
  },
  {
   "cell_type": "code",
   "execution_count": null,
   "id": "aacc2181-6493-4cd9-b429-01561232e218",
   "metadata": {
    "tags": []
   },
   "outputs": [],
   "source": [
    "# Convert array into dataframe\n"
   ]
  },
  {
   "cell_type": "code",
   "execution_count": null,
   "id": "8ce2623e-f86d-4f4b-b036-fd8ff264faaf",
   "metadata": {
    "tags": []
   },
   "outputs": [],
   "source": [
    "# Create figure to visualize time series\n"
   ]
  },
  {
   "cell_type": "markdown",
   "id": "45d036be-1b73-4b84-8598-ad11a90659d5",
   "metadata": {},
   "source": [
    "### Download Sentinel data\n",
    "\n",
    "First we are going to request the available image dates within a user-define period of time. Then we will download a few of the images in the list so that the code runs within a short period of time.\n",
    "\n",
    "For this part we will use a product from Sentinel that has some cloud information associated with it that will allow us to filter out images during clouy days. The product link is: https://developers.google.com/earth-engine/datasets/catalog/GOOGLE_CLOUD_SCORE_PLUS_V1_S2_HARMONIZED?hl=en#description"
   ]
  },
  {
   "cell_type": "code",
   "execution_count": null,
   "id": "a42a4ab1-ddd4-4c08-a44c-3471607cdf84",
   "metadata": {
    "tags": []
   },
   "outputs": [],
   "source": [
    "# Re-define start and end dates based on time series\n"
   ]
  },
  {
   "cell_type": "code",
   "execution_count": null,
   "id": "87b8c0e7-3aba-482e-8efd-f5a26ffd1956",
   "metadata": {
    "tags": []
   },
   "outputs": [],
   "source": [
    "# Select Sentinel 2 image collection\n",
    "\n",
    "\n",
    "# Get the list of available image dates\n",
    "\n"
   ]
  },
  {
   "cell_type": "code",
   "execution_count": null,
   "id": "6b6a2856-fc78-4e8a-894c-29713bc83295",
   "metadata": {
    "tags": []
   },
   "outputs": [],
   "source": [
    "# Select a subset of the collection dates to download\n",
    "\n",
    "# Download each image\n",
    "\n"
   ]
  },
  {
   "cell_type": "code",
   "execution_count": null,
   "id": "c5bff732-542f-4376-bcff-4f04ec5dc060",
   "metadata": {
    "tags": []
   },
   "outputs": [],
   "source": [
    "# Read one image to inspect data\n",
    "\n",
    "# Get number of rows and columns for later use\n",
    "\n",
    "# Visualize map for specific date\n",
    "\n"
   ]
  },
  {
   "cell_type": "markdown",
   "id": "ad0acbb7-0862-4e0d-a442-edee7eed8c8a",
   "metadata": {},
   "source": [
    "### Create space-time data array using all the images"
   ]
  },
  {
   "cell_type": "code",
   "execution_count": null,
   "id": "5056d7fb-76fc-4e27-bad7-edabb458eee8",
   "metadata": {
    "tags": []
   },
   "outputs": [],
   "source": [
    "# Read all image names\n"
   ]
  },
  {
   "cell_type": "code",
   "execution_count": null,
   "id": "29697ba7-7ee9-4925-9477-0acdc8029c7d",
   "metadata": {
    "tags": []
   },
   "outputs": [],
   "source": [
    "# Create DataArray\n"
   ]
  },
  {
   "cell_type": "code",
   "execution_count": null,
   "id": "5fcb5efd-25f4-4cdf-b283-ab3514725691",
   "metadata": {
    "tags": []
   },
   "outputs": [],
   "source": [
    "# Plot all of them\n"
   ]
  },
  {
   "cell_type": "markdown",
   "id": "71933f5f-d6cd-4fc8-8382-689a22aa2da5",
   "metadata": {},
   "source": [
    "### Access and select data within DataArray"
   ]
  },
  {
   "cell_type": "code",
   "execution_count": null,
   "id": "f9edbc41-0d79-4708-864d-541564980010",
   "metadata": {
    "tags": []
   },
   "outputs": [],
   "source": [
    "# Plot single image by date\n"
   ]
  },
  {
   "cell_type": "code",
   "execution_count": null,
   "id": "64adf066-c2f0-4dec-ab9c-85c23d97e095",
   "metadata": {
    "tags": []
   },
   "outputs": [],
   "source": [
    "# Only areas with specific NDVI\n"
   ]
  },
  {
   "cell_type": "code",
   "execution_count": null,
   "id": "e38231f7-504d-4286-a82a-cb1bb3cd1c22",
   "metadata": {
    "tags": []
   },
   "outputs": [],
   "source": [
    "# Plot time series\n"
   ]
  },
  {
   "cell_type": "markdown",
   "id": "27428d32-db58-463f-a84d-db202f3e977e",
   "metadata": {},
   "source": [
    "### Compute relative difference\n",
    "\n",
    "For each NDVI layer we will normalize the values by first subtracting the mean, and then dividing by the mean. This was we will obtain a new grid showing areas of the field that have more or less biomass than teh field average.\n",
    "\n",
    "$$ RD = \\frac{NDVI - \\overline{NDVI}}{\\overline{NDVI}}$$\n"
   ]
  },
  {
   "cell_type": "code",
   "execution_count": null,
   "id": "0d3331ac-1523-4789-a8c2-59e787bd4c86",
   "metadata": {
    "tags": []
   },
   "outputs": [],
   "source": [
    "# Create lambda function to compute RD\n"
   ]
  },
  {
   "cell_type": "code",
   "execution_count": null,
   "id": "8971508f-b8b1-4fe4-a538-fbbb3d3f1507",
   "metadata": {
    "tags": []
   },
   "outputs": [],
   "source": [
    "# Compute relative difference\n"
   ]
  },
  {
   "cell_type": "code",
   "execution_count": null,
   "id": "1dcb02fe-2cd6-4e61-8c76-763127d1ed95",
   "metadata": {
    "tags": []
   },
   "outputs": [],
   "source": [
    "# Create data array\n"
   ]
  },
  {
   "cell_type": "code",
   "execution_count": null,
   "id": "f722f8b7-e939-4158-a8c2-ca76759d8cfb",
   "metadata": {
    "tags": []
   },
   "outputs": [],
   "source": [
    "# Compute mean relative difference\n",
    "\n"
   ]
  },
  {
   "cell_type": "code",
   "execution_count": null,
   "id": "b513485c-5565-4aaa-a129-f04179256592",
   "metadata": {
    "tags": []
   },
   "outputs": [],
   "source": [
    "# Plot mean relative difference\n",
    "\n"
   ]
  },
  {
   "cell_type": "markdown",
   "id": "438655e0-4202-4784-ad87-8d57b553acf3",
   "metadata": {},
   "source": [
    "### Create management zones\n",
    "\n",
    "We will use clustering analysis to find homogeneous management zones. During clustering, each column represents a different feature (NDVI date, or any other variable) and rows represent reps or observations (in our case each pixel of the field)."
   ]
  },
  {
   "cell_type": "code",
   "execution_count": null,
   "id": "54d11a0a-1edf-42cf-bb18-72f240958680",
   "metadata": {
    "tags": []
   },
   "outputs": [],
   "source": [
    "# Input data using MRD\n",
    "\n",
    "# Imputing missing data\n"
   ]
  },
  {
   "cell_type": "code",
   "execution_count": null,
   "id": "7b1e9f85-3abd-4187-bd3a-5bc120919837",
   "metadata": {
    "tags": []
   },
   "outputs": [],
   "source": [
    "# Clustering (this will result in integer labels)\n",
    "\n",
    "# Smooth clusters using Gaussian filter\n"
   ]
  },
  {
   "cell_type": "code",
   "execution_count": null,
   "id": "6fedaa8a-463b-428e-88f4-38fe29b4b327",
   "metadata": {
    "tags": []
   },
   "outputs": [],
   "source": [
    "# Create DataArray with resulting clusters, which the new management zones\n",
    "\n",
    "\n",
    "# Restore NaN cells\n",
    "\n",
    "\n",
    "# Plot management zones\n"
   ]
  },
  {
   "cell_type": "code",
   "execution_count": null,
   "id": "85e26bcb-1ea8-482e-8fe8-10e9cdf39d62",
   "metadata": {},
   "outputs": [],
   "source": [
    "# Create a version where each cluster is represented by the median MRD\n"
   ]
  },
  {
   "cell_type": "code",
   "execution_count": null,
   "id": "bd3fdef1-bbe8-4c7a-a6a2-f03d9803a241",
   "metadata": {},
   "outputs": [],
   "source": [
    "# Show mapped clusters using MRD values\n"
   ]
  },
  {
   "cell_type": "markdown",
   "id": "a9ae8705-724c-41ef-ab55-a6f628f92072",
   "metadata": {},
   "source": [
    "### Vectorize resulting raster management zones"
   ]
  },
  {
   "cell_type": "code",
   "execution_count": null,
   "id": "b4da5491-566d-4104-93e9-dd325511fb05",
   "metadata": {
    "tags": []
   },
   "outputs": [],
   "source": [
    "# Create empty arrays to save polygons for each cluster and their MRD value\n",
    "\n",
    "# Create a GeoDataFrame with the polygons and their cluster labels\n"
   ]
  },
  {
   "cell_type": "code",
   "execution_count": null,
   "id": "1b82eead-da48-4a9e-8d8c-02fd6ec99f23",
   "metadata": {
    "tags": []
   },
   "outputs": [],
   "source": [
    "# Plot mapped clusters\n"
   ]
  },
  {
   "cell_type": "code",
   "execution_count": null,
   "id": "edc336ca-93f5-4b68-b89f-b049ede2ef17",
   "metadata": {},
   "outputs": [],
   "source": [
    "# Visualize interactive map\n"
   ]
  },
  {
   "cell_type": "code",
   "execution_count": null,
   "id": "b3e9f09a-97d3-4b71-85be-837c4208bac4",
   "metadata": {
    "tags": []
   },
   "outputs": [],
   "source": [
    "# Export shapefile to use as a prescription map\n"
   ]
  }
 ],
 "metadata": {
  "kernelspec": {
   "display_name": "Python 3 (ipykernel)",
   "language": "python",
   "name": "python3"
  },
  "language_info": {
   "codemirror_mode": {
    "name": "ipython",
    "version": 3
   },
   "file_extension": ".py",
   "mimetype": "text/x-python",
   "name": "python",
   "nbconvert_exporter": "python",
   "pygments_lexer": "ipython3",
   "version": "3.12.7"
  }
 },
 "nbformat": 4,
 "nbformat_minor": 5
}
