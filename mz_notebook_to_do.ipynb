{
 "cells": [
  {
   "cell_type": "markdown",
   "id": "15072618-b85a-4511-9415-caa8871ec6b0",
   "metadata": {},
   "source": [
    "# Identify Field Management Zones from a Collection of NDVI Images nad Soil Moisture Surveys\n",
    "\n",
    "In this tutorial you will learn how to:\n",
    "\n",
    "- Find, access, and download products from Google Earth Engine\n",
    "- Compute NDVI from image bands \n",
    "- Load custom field boundaries in vector format\n",
    "- Plot raster files\n",
    "- Stack raster files to generate space-time arrays\n",
    "- Cluster multiple images to generate field management zones\n",
    "- Export map of resulting field management zones as prescription maps in Shapefile format\n",
    "- Load points of soil moisture data collected in the field\n",
    "- Create raster for field\n",
    "- Interpolate points to raster\n",
    "- Identify drier and wetter than average zones\n"
   ]
  },
  {
   "cell_type": "markdown",
   "id": "9b170618-e50b-45ac-abfd-64257fea731e",
   "metadata": {},
   "source": [
    "Before you start, make sure you ran the *setup* notebook and have your GEE account.\n",
    "\n",
    "You can find the *setup* notebook in the link: https://github.com/soilwater/precisionag-workshop-2024/blob/main/setup_python_geospatial_analysis.ipynb"
   ]
  },
  {
   "cell_type": "markdown",
   "id": "9132dd90-2d2c-4e84-9b94-2da164688a78",
   "metadata": {},
   "source": [
    "### Import necessary modules"
   ]
  },
  {
   "cell_type": "code",
   "execution_count": null,
   "id": "3204b742-660e-40f4-9f92-03fac7d4a759",
   "metadata": {
    "tags": []
   },
   "outputs": [],
   "source": [
    "# Import modules\n",
    "import ee\n",
    "import glob\n",
    "import requests\n",
    "import matplotlib.pyplot as plt\n",
    "from matplotlib import colors\n",
    "import xarray as xr\n",
    "import pandas as pd\n",
    "import numpy as np\n",
    "import geopandas as gpd\n",
    "import json\n",
    "from datetime import datetime, timedelta\n",
    "from scipy.ndimage import gaussian_filter\n",
    "from scipy.interpolate import griddata, RBFInterpolator\n"
   ]
  },
  {
   "cell_type": "markdown",
   "id": "437bf9a0-082a-42a0-be90-84c4d34923d1",
   "metadata": {},
   "source": [
    "### Initialize Google Earth Engine"
   ]
  },
  {
   "cell_type": "code",
   "execution_count": null,
   "id": "a619f8a1-1722-4885-9b49-84e9db979d7e",
   "metadata": {
    "tags": []
   },
   "outputs": [],
   "source": [
    "# Authenticate\n",
    "ee.Authenticate()\n",
    "\n",
    "# Initialize API\n",
    "ee.Initialize()"
   ]
  },
  {
   "cell_type": "markdown",
   "id": "8bdcb0e2-29f3-4601-932b-a84bc52511e6",
   "metadata": {},
   "source": [
    "### Create helper functions"
   ]
  },
  {
   "cell_type": "code",
   "execution_count": null,
   "id": "6b5362dc-0141-4a67-96cf-850c91703b8b",
   "metadata": {
    "tags": []
   },
   "outputs": [],
   "source": [
    "def save_gee_to_geotiff(ee_image, filename, crs, scale, geom, bands=[]):\n",
    "    \"\"\"\n",
    "    Function to save images from Google Earth Engine into local hard drive.\n",
    "    \"\"\"\n",
    "    image_url = ee_image.getDownloadUrl({'region': geom,'scale':scale, \n",
    "                                         'bands': bands,\n",
    "                                         'crs': f'EPSG:{crs}', \n",
    "                                         'format': 'GEO_TIFF'})\n",
    "    \n",
    "    # Request data using URL and save data as a new GeoTiff file\n",
    "    response = requests.get(image_url)\n",
    "    if response.status_code == 200:\n",
    "        with open(filename, 'wb') as f:\n",
    "            f.write(response.content)\n",
    "            print(f\"Saved image {filename}\")\n",
    "    else:\n",
    "        print(\"Failed to download image\")\n",
    "\n",
    "\n",
    "def array_to_df(arr):\n",
    "    \"\"\"Function to convert list into dataframe\"\"\"\n",
    "    df = pd.DataFrame(arr[1:])\n",
    "    df.columns = arr[0]\n",
    "    df['time'] = pd.to_datetime(df['time'], unit='ms')\n",
    "    return df\n"
   ]
  },
  {
   "cell_type": "code",
   "execution_count": null,
   "id": "6f251c81-da26-4a47-910f-63b2ec94cfca",
   "metadata": {
    "tags": []
   },
   "outputs": [],
   "source": [
    "# Create our own colormap\n",
    "hex_palette = ['#FEFEFE','#CE7E45', '#DF923D', '#F1B555', '#FCD163', '#99B718', '#74A901',\n",
    "             '#66A000', '#529400', '#3E8601', '#207401', '#056201', '#004C00', '#023B01',\n",
    "             '#012E01', '#011D01', '#011301']\n",
    "\n",
    "\n",
    "# Use the built-in ListedColormap function to do the conversion\n"
   ]
  },
  {
   "cell_type": "markdown",
   "id": "5865c99f-4001-4b30-8bbd-b18563211586",
   "metadata": {},
   "source": [
    "### Define area of interest\n",
    "\n",
    "We will use a cropland field within the Konza Prairie Biological Station near Manhattan, KS. The field has a site of the National Ecological Observatory Network that you can also use to retrieve additional data."
   ]
  },
  {
   "cell_type": "code",
   "execution_count": null,
   "id": "af2982d9-df3f-49dd-bba5-33cffe54a210",
   "metadata": {
    "tags": []
   },
   "outputs": [],
   "source": [
    "# Import boundary for area of interest (aoi)\n",
    "#with open('neon_kona_bnd.geojson') as file:\n",
    "#    aoi_json = json.load(file)\n",
    "\n",
    "# Read field boundary with Geopandas\n",
    "\n",
    "\n",
    "# Get JSON format (.to_json() gives us a string, so we use the json module to create a proposer json object\n",
    "\n",
    "# Define the ee.Geometry\n",
    "\n",
    "# Create mask for field\n"
   ]
  },
  {
   "cell_type": "code",
   "execution_count": null,
   "id": "a2ecfb8d-d707-4722-a9a2-06379f1af51d",
   "metadata": {
    "tags": []
   },
   "outputs": [],
   "source": [
    "# Get centroid so that we can define a point\n",
    "\n",
    "# Get centroids from GEE geometry\n",
    "\n"
   ]
  },
  {
   "cell_type": "markdown",
   "id": "96e0f6d9-fe4a-4b57-878c-942fa98d4a9d",
   "metadata": {},
   "source": [
    "### Get NDVI timeseries to inspect growing season trend"
   ]
  },
  {
   "cell_type": "code",
   "execution_count": null,
   "id": "0097a927-bf1b-45a2-baaa-8f3e96308562",
   "metadata": {
    "tags": []
   },
   "outputs": [],
   "source": [
    "# Define start and end dates\n",
    "\n"
   ]
  },
  {
   "cell_type": "code",
   "execution_count": null,
   "id": "ea3d0893-d40a-48e1-bad9-70700213d3e2",
   "metadata": {
    "tags": []
   },
   "outputs": [],
   "source": [
    "# Define point of interest\n"
   ]
  },
  {
   "cell_type": "code",
   "execution_count": null,
   "id": "55babfb4-ad88-47d6-831a-70691757e0d4",
   "metadata": {
    "tags": []
   },
   "outputs": [],
   "source": [
    "# Get collection for Modis 16-day\n"
   ]
  },
  {
   "cell_type": "code",
   "execution_count": null,
   "id": "aacc2181-6493-4cd9-b429-01561232e218",
   "metadata": {
    "tags": []
   },
   "outputs": [],
   "source": [
    "# Convert array into dataframe\n"
   ]
  },
  {
   "cell_type": "code",
   "execution_count": null,
   "id": "8ce2623e-f86d-4f4b-b036-fd8ff264faaf",
   "metadata": {
    "tags": []
   },
   "outputs": [],
   "source": [
    "# Create figure to visualize time series\n"
   ]
  },
  {
   "cell_type": "markdown",
   "id": "45d036be-1b73-4b84-8598-ad11a90659d5",
   "metadata": {},
   "source": [
    "### Download Sentinel data"
   ]
  },
  {
   "cell_type": "code",
   "execution_count": null,
   "id": "a42a4ab1-ddd4-4c08-a44c-3471607cdf84",
   "metadata": {
    "tags": []
   },
   "outputs": [],
   "source": [
    "# Re-define start and end dates based on time series\n"
   ]
  },
  {
   "cell_type": "code",
   "execution_count": null,
   "id": "87b8c0e7-3aba-482e-8efd-f5a26ffd1956",
   "metadata": {
    "tags": []
   },
   "outputs": [],
   "source": [
    "# Select Sentinel 2 data\n",
    "\n",
    "# Get the list of available image dates\n",
    "\n"
   ]
  },
  {
   "cell_type": "code",
   "execution_count": null,
   "id": "6b6a2856-fc78-4e8a-894c-29713bc83295",
   "metadata": {
    "tags": []
   },
   "outputs": [],
   "source": [
    "# Select all or a subset of the collection dates\n",
    "\n",
    "# Download each image\n",
    "\n"
   ]
  },
  {
   "cell_type": "code",
   "execution_count": null,
   "id": "c5bff732-542f-4376-bcff-4f04ec5dc060",
   "metadata": {
    "tags": []
   },
   "outputs": [],
   "source": [
    "# Read one image to inspect data\n",
    "\n",
    "# Get number of rows and columns for later use\n",
    "\n",
    "# Visualize map for specific date\n",
    "\n"
   ]
  },
  {
   "cell_type": "code",
   "execution_count": null,
   "id": "5056d7fb-76fc-4e27-bad7-edabb458eee8",
   "metadata": {
    "tags": []
   },
   "outputs": [],
   "source": [
    "# Read all image names\n"
   ]
  },
  {
   "cell_type": "code",
   "execution_count": null,
   "id": "29697ba7-7ee9-4925-9477-0acdc8029c7d",
   "metadata": {
    "tags": []
   },
   "outputs": [],
   "source": [
    "# Load all images\n"
   ]
  },
  {
   "cell_type": "code",
   "execution_count": null,
   "id": "cbd374c1-b883-47a9-ab55-af6d5be4af70",
   "metadata": {
    "tags": []
   },
   "outputs": [],
   "source": [
    "# Convert to array\n"
   ]
  },
  {
   "cell_type": "code",
   "execution_count": null,
   "id": "5fcb5efd-25f4-4cdf-b283-ab3514725691",
   "metadata": {
    "tags": []
   },
   "outputs": [],
   "source": [
    "# Plot all of them\n"
   ]
  },
  {
   "cell_type": "markdown",
   "id": "71933f5f-d6cd-4fc8-8382-689a22aa2da5",
   "metadata": {},
   "source": [
    "### Access and select data within DataArray"
   ]
  },
  {
   "cell_type": "code",
   "execution_count": null,
   "id": "f9edbc41-0d79-4708-864d-541564980010",
   "metadata": {
    "tags": []
   },
   "outputs": [],
   "source": [
    "# Plot one image\n"
   ]
  },
  {
   "cell_type": "code",
   "execution_count": null,
   "id": "64adf066-c2f0-4dec-ab9c-85c23d97e095",
   "metadata": {
    "tags": []
   },
   "outputs": [],
   "source": [
    "# Only areas with specific NDVI\n"
   ]
  },
  {
   "cell_type": "code",
   "execution_count": null,
   "id": "e38231f7-504d-4286-a82a-cb1bb3cd1c22",
   "metadata": {
    "tags": []
   },
   "outputs": [],
   "source": [
    "# Plot temporal NDVI"
   ]
  },
  {
   "cell_type": "markdown",
   "id": "27428d32-db58-463f-a84d-db202f3e977e",
   "metadata": {},
   "source": [
    "### Compute relative difference\n",
    "\n",
    "For each NDVI layer we will normalize the values by first subtracting the mean, and then dividing by the mean. This was we will obtain a new grid showing areas of the field that have more or less biomass than teh field average.\n",
    "\n",
    "$$ RD = \\frac{NDVI - \\overline{NDVI}}{\\overline{NDVI}}$$\n"
   ]
  },
  {
   "cell_type": "code",
   "execution_count": null,
   "id": "0d3331ac-1523-4789-a8c2-59e787bd4c86",
   "metadata": {
    "tags": []
   },
   "outputs": [],
   "source": [
    "# Create function to calculate relative difference\n"
   ]
  },
  {
   "cell_type": "code",
   "execution_count": null,
   "id": "8971508f-b8b1-4fe4-a538-fbbb3d3f1507",
   "metadata": {
    "tags": []
   },
   "outputs": [],
   "source": [
    "# Compute relative difference\n"
   ]
  },
  {
   "cell_type": "code",
   "execution_count": null,
   "id": "1dcb02fe-2cd6-4e61-8c76-763127d1ed95",
   "metadata": {
    "tags": []
   },
   "outputs": [],
   "source": []
  },
  {
   "cell_type": "code",
   "execution_count": null,
   "id": "f722f8b7-e939-4158-a8c2-ca76759d8cfb",
   "metadata": {
    "tags": []
   },
   "outputs": [],
   "source": [
    "# Compute mean relative difference\n",
    "\n"
   ]
  },
  {
   "cell_type": "code",
   "execution_count": null,
   "id": "b513485c-5565-4aaa-a129-f04179256592",
   "metadata": {
    "tags": []
   },
   "outputs": [],
   "source": [
    "# Plot mean relative difference\n",
    "\n"
   ]
  },
  {
   "cell_type": "markdown",
   "id": "438655e0-4202-4784-ad87-8d57b553acf3",
   "metadata": {},
   "source": [
    "### Find management zones\n",
    "\n",
    "We will use clustering analysis to find homogeneous management zones."
   ]
  },
  {
   "cell_type": "code",
   "execution_count": null,
   "id": "6ff8abf5-252c-459d-98d1-670ffeb28e42",
   "metadata": {
    "tags": []
   },
   "outputs": [],
   "source": [
    "# Import modules\n",
    "\n"
   ]
  },
  {
   "cell_type": "code",
   "execution_count": null,
   "id": "54d11a0a-1edf-42cf-bb18-72f240958680",
   "metadata": {
    "tags": []
   },
   "outputs": [],
   "source": [
    "# Input data using all surveys\n",
    "clustering_input_data = rel_diff.values.reshape(-1, len(selected_dates))\n",
    "\n",
    "# Input clustering data is the resulting mean relative difference\n",
    "#clustering_input_data = field_mrd.values.reshape(-1, 1)\n"
   ]
  },
  {
   "cell_type": "code",
   "execution_count": null,
   "id": "7b1e9f85-3abd-4187-bd3a-5bc120919837",
   "metadata": {
    "tags": []
   },
   "outputs": [],
   "source": [
    "# Cluster "
   ]
  },
  {
   "cell_type": "code",
   "execution_count": null,
   "id": "6fedaa8a-463b-428e-88f4-38fe29b4b327",
   "metadata": {
    "tags": []
   },
   "outputs": [],
   "source": [
    "# Plot management zones\n"
   ]
  },
  {
   "cell_type": "markdown",
   "id": "a9ae8705-724c-41ef-ab55-a6f628f92072",
   "metadata": {},
   "source": [
    "### Vectorize resulting raster management zones"
   ]
  },
  {
   "cell_type": "code",
   "execution_count": null,
   "id": "9209a6ed-57ec-406d-b782-140081d3ebaf",
   "metadata": {
    "tags": []
   },
   "outputs": [],
   "source": [
    "# Import modules\n"
   ]
  },
  {
   "cell_type": "code",
   "execution_count": null,
   "id": "b4da5491-566d-4104-93e9-dd325511fb05",
   "metadata": {
    "tags": []
   },
   "outputs": [],
   "source": [
    "# Create polygons from each pixel\n",
    "\n",
    "# Create a GeoDataFrame with the polygons and their cluster labels\n"
   ]
  },
  {
   "cell_type": "code",
   "execution_count": null,
   "id": "1b82eead-da48-4a9e-8d8c-02fd6ec99f23",
   "metadata": {
    "tags": []
   },
   "outputs": [],
   "source": [
    "# Plot\n"
   ]
  },
  {
   "cell_type": "code",
   "execution_count": null,
   "id": "b3e9f09a-97d3-4b71-85be-837c4208bac4",
   "metadata": {
    "tags": []
   },
   "outputs": [],
   "source": [
    "# Export shapefile as prescription map\n"
   ]
  },
  {
   "cell_type": "markdown",
   "id": "398d23a8-c560-4dae-a4cb-dbda80a8f87a",
   "metadata": {},
   "source": [
    "## Inspect soil moisture surveys"
   ]
  },
  {
   "cell_type": "code",
   "execution_count": null,
   "id": "0f136c5f-2371-4fce-8917-cfe437f4a610",
   "metadata": {
    "tags": []
   },
   "outputs": [],
   "source": [
    "# Upload data\n"
   ]
  },
  {
   "cell_type": "code",
   "execution_count": null,
   "id": "014c8e32-86e9-4130-bc3d-6d442118b955",
   "metadata": {
    "tags": []
   },
   "outputs": [],
   "source": [
    "# Define correction function based on Patrignani et al. (2022) for Hydrosense II hand-held sensor\n"
   ]
  },
  {
   "cell_type": "code",
   "execution_count": null,
   "id": "1065b1b0-c1d4-4adf-b7d8-b7cf693250be",
   "metadata": {
    "tags": []
   },
   "outputs": [],
   "source": [
    "# Apply correction function\n"
   ]
  },
  {
   "cell_type": "markdown",
   "id": "e6078a4f-d893-453b-b5ca-1c8778ca17e6",
   "metadata": {},
   "source": [
    "### Create GeoDataframe\n",
    "We will now convert the Pandas Dataframe into a GeoPandas GeoDataframe."
   ]
  },
  {
   "cell_type": "code",
   "execution_count": null,
   "id": "4be7c0bc-b45f-4dac-851f-98449a1c7d3d",
   "metadata": {
    "tags": []
   },
   "outputs": [],
   "source": []
  },
  {
   "cell_type": "code",
   "execution_count": null,
   "id": "d2239cb7-64c5-4940-bf7f-91202fef223e",
   "metadata": {
    "tags": []
   },
   "outputs": [],
   "source": [
    "# Convert geographic coordinates to projected coordinates \n",
    "# We will use UTM-14 for Kansas (https://epsg.io/32614)\n"
   ]
  },
  {
   "cell_type": "code",
   "execution_count": null,
   "id": "a9c02901-fcc1-4f85-bb5f-0797144dac78",
   "metadata": {
    "tags": []
   },
   "outputs": [],
   "source": [
    "# Approximate field boundary using the convex hull\n",
    "\n",
    "# Alternatively you can read your field boundary in geojson, KML, or shapefile format\n",
    "# field_bnd = gpd.read_file('sm_data/neon_kona_bnd.geojson').to_crs(crs=32614)\n"
   ]
  },
  {
   "cell_type": "code",
   "execution_count": null,
   "id": "c5154f58-bc11-4578-b460-85ffa876cb26",
   "metadata": {
    "tags": []
   },
   "outputs": [],
   "source": [
    "# Display all field points and the field boundary\n"
   ]
  },
  {
   "cell_type": "markdown",
   "id": "03f3b6fb-d416-412e-8220-5e60b332b914",
   "metadata": {},
   "source": [
    "### Create field grid\n",
    "Now need to generate a raster layer that spans the entire field, with each grid cell containing a value estimated from nearby point observations."
   ]
  },
  {
   "cell_type": "code",
   "execution_count": null,
   "id": "a4c66b7d-1c9a-4d98-84dc-dd2a98590411",
   "metadata": {
    "tags": []
   },
   "outputs": [],
   "source": [
    "# Get bounds considering all points (note that bounds is for each geometry, while total bounds is for the entire GeoDataFrame)\n"
   ]
  },
  {
   "cell_type": "code",
   "execution_count": null,
   "id": "cc48ff6e-21fc-4a1a-a532-ab80d8f30507",
   "metadata": {
    "tags": []
   },
   "outputs": [],
   "source": [
    "# Create grid\n"
   ]
  },
  {
   "cell_type": "code",
   "execution_count": null,
   "id": "34c3067a-15f5-486a-8600-1f20703bb785",
   "metadata": {
    "tags": []
   },
   "outputs": [],
   "source": [
    "# Create raster using xarray\n"
   ]
  },
  {
   "cell_type": "code",
   "execution_count": null,
   "id": "aaaee6d5-02e3-4b3b-b56e-106eecffb8f3",
   "metadata": {
    "tags": []
   },
   "outputs": [],
   "source": [
    "# Create a GeoDataframe with the centroids, so that we can use them to find cells inside and outside of the field boundary\n"
   ]
  },
  {
   "cell_type": "code",
   "execution_count": null,
   "id": "07102528-c492-49b2-8f2f-300e2abf6b73",
   "metadata": {
    "tags": []
   },
   "outputs": [],
   "source": [
    "# Overlay all vector (sampling points ) and raster data\n"
   ]
  },
  {
   "cell_type": "markdown",
   "id": "8f4daeac-e054-48d9-84d3-07f5518a5e50",
   "metadata": {},
   "source": [
    "### Create mask\n",
    "The mask represents the grid cells that are outside of the field boundary and that therefore we want to ignore during interpolation and the overall data analysis."
   ]
  },
  {
   "cell_type": "code",
   "execution_count": null,
   "id": "70e98e64-ffa8-49b4-af28-c87f7e241fe2",
   "metadata": {
    "tags": []
   },
   "outputs": [],
   "source": [
    "# Find grid points inside of field boundary\n",
    "\n",
    "# Convert the GeoSeries (1D column) to matrix form (2d array)\n",
    "\n",
    "# Convert array into Xarray\n"
   ]
  },
  {
   "cell_type": "code",
   "execution_count": null,
   "id": "62197346-7285-406e-9cca-479c7feb120d",
   "metadata": {
    "tags": []
   },
   "outputs": [],
   "source": [
    "# Plot\n"
   ]
  },
  {
   "cell_type": "markdown",
   "id": "954645b3-092c-448e-a120-3a99cd758f5c",
   "metadata": {},
   "source": [
    "### Interpolate soil moisture for each survey\n",
    "Here we will interpolate point values collected during each survey to the regular grid. There will be one grid per survey.\n"
   ]
  },
  {
   "cell_type": "code",
   "execution_count": null,
   "id": "867c7f7b-e038-465e-af75-90d2b0561a18",
   "metadata": {
    "tags": []
   },
   "outputs": [],
   "source": []
  },
  {
   "cell_type": "code",
   "execution_count": null,
   "id": "b1b0afd3-f13c-413f-9a13-46d8c1bc8e33",
   "metadata": {
    "tags": []
   },
   "outputs": [],
   "source": [
    "# Create a space-time DataArray with all the interpolated surveys\n"
   ]
  },
  {
   "cell_type": "code",
   "execution_count": null,
   "id": "81ff8c8c-a216-4e01-8e16-4dadf8a7b5c3",
   "metadata": {
    "tags": []
   },
   "outputs": [],
   "source": [
    "# Plot particular survey\n"
   ]
  },
  {
   "cell_type": "code",
   "execution_count": null,
   "id": "40b0b960-c654-46da-823e-cb7d93cdb61a",
   "metadata": {
    "tags": []
   },
   "outputs": [],
   "source": [
    "# Plot all of them\n"
   ]
  },
  {
   "cell_type": "code",
   "execution_count": null,
   "id": "48d48d78-7e45-4e3c-b142-8e808d0af788",
   "metadata": {
    "tags": []
   },
   "outputs": [],
   "source": [
    "# Compute mean relative diffences\n"
   ]
  },
  {
   "cell_type": "code",
   "execution_count": null,
   "id": "5f201dec-c12a-4bae-8a14-85ae027490d5",
   "metadata": {
    "tags": []
   },
   "outputs": [],
   "source": [
    "# Plot\n"
   ]
  },
  {
   "cell_type": "markdown",
   "id": "d8c443f9-de74-4c60-9e37-04403b33d85a",
   "metadata": {},
   "source": [
    "### Determine management zones based on soil moisture"
   ]
  },
  {
   "cell_type": "code",
   "execution_count": null,
   "id": "819d08cd-b418-4a19-bba0-ec561f8fbd95",
   "metadata": {},
   "outputs": [],
   "source": [
    "# To do by students following NDVI example"
   ]
  }
 ],
 "metadata": {
  "kernelspec": {
   "display_name": "Python 3 (ipykernel)",
   "language": "python",
   "name": "python3"
  },
  "language_info": {
   "codemirror_mode": {
    "name": "ipython",
    "version": 3
   },
   "file_extension": ".py",
   "mimetype": "text/x-python",
   "name": "python",
   "nbconvert_exporter": "python",
   "pygments_lexer": "ipython3",
   "version": "3.12.7"
  }
 },
 "nbformat": 4,
 "nbformat_minor": 5
}
